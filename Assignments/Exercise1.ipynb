{
 "cells": [
  {
   "cell_type": "markdown",
   "metadata": {},
   "source": [
    "## write a program:\n",
    "#### reads surveys.csv\n",
    "#### create dataframe as many as year\n",
    "#### save each year's dataframe into separate csv file"
   ]
  },
  {
   "cell_type": "code",
   "execution_count": 2,
   "metadata": {
    "ExecuteTime": {
     "end_time": "2019-10-03T10:30:00.276242Z",
     "start_time": "2019-10-03T10:29:59.578785Z"
    }
   },
   "outputs": [],
   "source": [
    "import pandas as pd"
   ]
  },
  {
   "cell_type": "code",
   "execution_count": 3,
   "metadata": {
    "ExecuteTime": {
     "end_time": "2019-10-03T10:30:01.062447Z",
     "start_time": "2019-10-03T10:30:01.017419Z"
    }
   },
   "outputs": [],
   "source": [
    "# read the file\n",
    "surveys = pd.read_csv('surveys.csv', header=0, index_col='record_id')"
   ]
  },
  {
   "cell_type": "code",
   "execution_count": 6,
   "metadata": {
    "ExecuteTime": {
     "end_time": "2019-10-03T10:30:28.735647Z",
     "start_time": "2019-10-03T10:30:28.729362Z"
    }
   },
   "outputs": [],
   "source": [
    "years = surveys.year.unique()"
   ]
  },
  {
   "cell_type": "code",
   "execution_count": 7,
   "metadata": {
    "ExecuteTime": {
     "end_time": "2019-10-03T10:30:29.556930Z",
     "start_time": "2019-10-03T10:30:29.552637Z"
    }
   },
   "outputs": [
    {
     "data": {
      "text/plain": [
       "array([1977, 1978, 1979, 1980, 1981, 1982, 1983, 1984, 1985, 1986, 1987,\n",
       "       1988, 1989, 1990, 1991, 1992, 1993, 1994, 1995, 1996, 1997, 1998,\n",
       "       1999, 2000, 2001, 2002])"
      ]
     },
     "execution_count": 7,
     "metadata": {},
     "output_type": "execute_result"
    }
   ],
   "source": [
    "years"
   ]
  },
  {
   "cell_type": "code",
   "execution_count": 8,
   "metadata": {
    "ExecuteTime": {
     "end_time": "2019-10-03T10:30:38.478184Z",
     "start_time": "2019-10-03T10:30:38.120865Z"
    }
   },
   "outputs": [],
   "source": [
    "for i in years:\n",
    "    df = surveys[surveys.year==i]\n",
    "    df.to_csv('survey-'+str(i)+'.csv')"
   ]
  },
  {
   "cell_type": "code",
   "execution_count": null,
   "metadata": {},
   "outputs": [],
   "source": []
  }
 ],
 "metadata": {
  "kernelspec": {
   "display_name": "Python 3",
   "language": "python",
   "name": "python3"
  },
  "language_info": {
   "codemirror_mode": {
    "name": "ipython",
    "version": 3
   },
   "file_extension": ".py",
   "mimetype": "text/x-python",
   "name": "python",
   "nbconvert_exporter": "python",
   "pygments_lexer": "ipython3",
   "version": "3.7.4"
  }
 },
 "nbformat": 4,
 "nbformat_minor": 2
}
